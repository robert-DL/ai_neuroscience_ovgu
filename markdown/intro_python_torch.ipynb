{
  "nbformat": 4,
  "nbformat_minor": 0,
  "metadata": {
    "colab": {
      "name": "KI Seminar Notebook.ipynb",
      "provenance": [],
      "collapsed_sections": [
        "SYNxtnqZqTYT",
        "YbdATOjEsgPu",
        "PVKlyn20vbZ9",
        "dz0CIjZkxCOr",
        "wT6BehvjyVL8",
        "utSTVtuakmLy"
      ]
    },
    "kernelspec": {
      "name": "python3",
      "display_name": "Python 3"
    },
    "language_info": {
      "name": "python"
    },
    "widgets": {
      "application/vnd.jupyter.widget-state+json": {
        "1945d0c01f0e4a6a89c9cdd050a4654d": {
          "model_module": "@jupyter-widgets/controls",
          "model_name": "HBoxModel",
          "model_module_version": "1.5.0",
          "state": {
            "_view_name": "HBoxView",
            "_dom_classes": [],
            "_model_name": "HBoxModel",
            "_view_module": "@jupyter-widgets/controls",
            "_model_module_version": "1.5.0",
            "_view_count": null,
            "_view_module_version": "1.5.0",
            "box_style": "",
            "layout": "IPY_MODEL_449f8cde69eb407da9b0df8e6ce21a78",
            "_model_module": "@jupyter-widgets/controls",
            "children": [
              "IPY_MODEL_ff50f872bc8e4b53835c4e7ecce0c4bd",
              "IPY_MODEL_0ad11db4485943f7816ff6f1e64015a2",
              "IPY_MODEL_f946cbd3208b4294ac15ffca5b334fe5"
            ]
          }
        },
        "449f8cde69eb407da9b0df8e6ce21a78": {
          "model_module": "@jupyter-widgets/base",
          "model_name": "LayoutModel",
          "model_module_version": "1.2.0",
          "state": {
            "_view_name": "LayoutView",
            "grid_template_rows": null,
            "right": null,
            "justify_content": null,
            "_view_module": "@jupyter-widgets/base",
            "overflow": null,
            "_model_module_version": "1.2.0",
            "_view_count": null,
            "flex_flow": null,
            "width": null,
            "min_width": null,
            "border": null,
            "align_items": null,
            "bottom": null,
            "_model_module": "@jupyter-widgets/base",
            "top": null,
            "grid_column": null,
            "overflow_y": null,
            "overflow_x": null,
            "grid_auto_flow": null,
            "grid_area": null,
            "grid_template_columns": null,
            "flex": null,
            "_model_name": "LayoutModel",
            "justify_items": null,
            "grid_row": null,
            "max_height": null,
            "align_content": null,
            "visibility": null,
            "align_self": null,
            "height": null,
            "min_height": null,
            "padding": null,
            "grid_auto_rows": null,
            "grid_gap": null,
            "max_width": null,
            "order": null,
            "_view_module_version": "1.2.0",
            "grid_template_areas": null,
            "object_position": null,
            "object_fit": null,
            "grid_auto_columns": null,
            "margin": null,
            "display": null,
            "left": null
          }
        },
        "ff50f872bc8e4b53835c4e7ecce0c4bd": {
          "model_module": "@jupyter-widgets/controls",
          "model_name": "HTMLModel",
          "model_module_version": "1.5.0",
          "state": {
            "_view_name": "HTMLView",
            "style": "IPY_MODEL_dfb5aa01fb8c435589abfc7d172b1676",
            "_dom_classes": [],
            "description": "",
            "_model_name": "HTMLModel",
            "placeholder": "​",
            "_view_module": "@jupyter-widgets/controls",
            "_model_module_version": "1.5.0",
            "value": "",
            "_view_count": null,
            "_view_module_version": "1.5.0",
            "description_tooltip": null,
            "_model_module": "@jupyter-widgets/controls",
            "layout": "IPY_MODEL_4ba032947ef840d1a18322fd32e4663e"
          }
        },
        "0ad11db4485943f7816ff6f1e64015a2": {
          "model_module": "@jupyter-widgets/controls",
          "model_name": "FloatProgressModel",
          "model_module_version": "1.5.0",
          "state": {
            "_view_name": "ProgressView",
            "style": "IPY_MODEL_d289ae99961c4d02b980f7f0af07f545",
            "_dom_classes": [],
            "description": "",
            "_model_name": "FloatProgressModel",
            "bar_style": "success",
            "max": 170498071,
            "_view_module": "@jupyter-widgets/controls",
            "_model_module_version": "1.5.0",
            "value": 170498071,
            "_view_count": null,
            "_view_module_version": "1.5.0",
            "orientation": "horizontal",
            "min": 0,
            "description_tooltip": null,
            "_model_module": "@jupyter-widgets/controls",
            "layout": "IPY_MODEL_3bf45fc38cb34af597a7e8dadee487e2"
          }
        },
        "f946cbd3208b4294ac15ffca5b334fe5": {
          "model_module": "@jupyter-widgets/controls",
          "model_name": "HTMLModel",
          "model_module_version": "1.5.0",
          "state": {
            "_view_name": "HTMLView",
            "style": "IPY_MODEL_7bd99f5deeae4f07a54faf24c9693a67",
            "_dom_classes": [],
            "description": "",
            "_model_name": "HTMLModel",
            "placeholder": "​",
            "_view_module": "@jupyter-widgets/controls",
            "_model_module_version": "1.5.0",
            "value": " 170499072/? [00:02&lt;00:00, 81794692.94it/s]",
            "_view_count": null,
            "_view_module_version": "1.5.0",
            "description_tooltip": null,
            "_model_module": "@jupyter-widgets/controls",
            "layout": "IPY_MODEL_9045aee119f549b0bef2257389e9eff7"
          }
        },
        "dfb5aa01fb8c435589abfc7d172b1676": {
          "model_module": "@jupyter-widgets/controls",
          "model_name": "DescriptionStyleModel",
          "model_module_version": "1.5.0",
          "state": {
            "_view_name": "StyleView",
            "_model_name": "DescriptionStyleModel",
            "description_width": "",
            "_view_module": "@jupyter-widgets/base",
            "_model_module_version": "1.5.0",
            "_view_count": null,
            "_view_module_version": "1.2.0",
            "_model_module": "@jupyter-widgets/controls"
          }
        },
        "4ba032947ef840d1a18322fd32e4663e": {
          "model_module": "@jupyter-widgets/base",
          "model_name": "LayoutModel",
          "model_module_version": "1.2.0",
          "state": {
            "_view_name": "LayoutView",
            "grid_template_rows": null,
            "right": null,
            "justify_content": null,
            "_view_module": "@jupyter-widgets/base",
            "overflow": null,
            "_model_module_version": "1.2.0",
            "_view_count": null,
            "flex_flow": null,
            "width": null,
            "min_width": null,
            "border": null,
            "align_items": null,
            "bottom": null,
            "_model_module": "@jupyter-widgets/base",
            "top": null,
            "grid_column": null,
            "overflow_y": null,
            "overflow_x": null,
            "grid_auto_flow": null,
            "grid_area": null,
            "grid_template_columns": null,
            "flex": null,
            "_model_name": "LayoutModel",
            "justify_items": null,
            "grid_row": null,
            "max_height": null,
            "align_content": null,
            "visibility": null,
            "align_self": null,
            "height": null,
            "min_height": null,
            "padding": null,
            "grid_auto_rows": null,
            "grid_gap": null,
            "max_width": null,
            "order": null,
            "_view_module_version": "1.2.0",
            "grid_template_areas": null,
            "object_position": null,
            "object_fit": null,
            "grid_auto_columns": null,
            "margin": null,
            "display": null,
            "left": null
          }
        },
        "d289ae99961c4d02b980f7f0af07f545": {
          "model_module": "@jupyter-widgets/controls",
          "model_name": "ProgressStyleModel",
          "model_module_version": "1.5.0",
          "state": {
            "_view_name": "StyleView",
            "_model_name": "ProgressStyleModel",
            "description_width": "",
            "_view_module": "@jupyter-widgets/base",
            "_model_module_version": "1.5.0",
            "_view_count": null,
            "_view_module_version": "1.2.0",
            "bar_color": null,
            "_model_module": "@jupyter-widgets/controls"
          }
        },
        "3bf45fc38cb34af597a7e8dadee487e2": {
          "model_module": "@jupyter-widgets/base",
          "model_name": "LayoutModel",
          "model_module_version": "1.2.0",
          "state": {
            "_view_name": "LayoutView",
            "grid_template_rows": null,
            "right": null,
            "justify_content": null,
            "_view_module": "@jupyter-widgets/base",
            "overflow": null,
            "_model_module_version": "1.2.0",
            "_view_count": null,
            "flex_flow": null,
            "width": null,
            "min_width": null,
            "border": null,
            "align_items": null,
            "bottom": null,
            "_model_module": "@jupyter-widgets/base",
            "top": null,
            "grid_column": null,
            "overflow_y": null,
            "overflow_x": null,
            "grid_auto_flow": null,
            "grid_area": null,
            "grid_template_columns": null,
            "flex": null,
            "_model_name": "LayoutModel",
            "justify_items": null,
            "grid_row": null,
            "max_height": null,
            "align_content": null,
            "visibility": null,
            "align_self": null,
            "height": null,
            "min_height": null,
            "padding": null,
            "grid_auto_rows": null,
            "grid_gap": null,
            "max_width": null,
            "order": null,
            "_view_module_version": "1.2.0",
            "grid_template_areas": null,
            "object_position": null,
            "object_fit": null,
            "grid_auto_columns": null,
            "margin": null,
            "display": null,
            "left": null
          }
        },
        "7bd99f5deeae4f07a54faf24c9693a67": {
          "model_module": "@jupyter-widgets/controls",
          "model_name": "DescriptionStyleModel",
          "model_module_version": "1.5.0",
          "state": {
            "_view_name": "StyleView",
            "_model_name": "DescriptionStyleModel",
            "description_width": "",
            "_view_module": "@jupyter-widgets/base",
            "_model_module_version": "1.5.0",
            "_view_count": null,
            "_view_module_version": "1.2.0",
            "_model_module": "@jupyter-widgets/controls"
          }
        },
        "9045aee119f549b0bef2257389e9eff7": {
          "model_module": "@jupyter-widgets/base",
          "model_name": "LayoutModel",
          "model_module_version": "1.2.0",
          "state": {
            "_view_name": "LayoutView",
            "grid_template_rows": null,
            "right": null,
            "justify_content": null,
            "_view_module": "@jupyter-widgets/base",
            "overflow": null,
            "_model_module_version": "1.2.0",
            "_view_count": null,
            "flex_flow": null,
            "width": null,
            "min_width": null,
            "border": null,
            "align_items": null,
            "bottom": null,
            "_model_module": "@jupyter-widgets/base",
            "top": null,
            "grid_column": null,
            "overflow_y": null,
            "overflow_x": null,
            "grid_auto_flow": null,
            "grid_area": null,
            "grid_template_columns": null,
            "flex": null,
            "_model_name": "LayoutModel",
            "justify_items": null,
            "grid_row": null,
            "max_height": null,
            "align_content": null,
            "visibility": null,
            "align_self": null,
            "height": null,
            "min_height": null,
            "padding": null,
            "grid_auto_rows": null,
            "grid_gap": null,
            "max_width": null,
            "order": null,
            "_view_module_version": "1.2.0",
            "grid_template_areas": null,
            "object_position": null,
            "object_fit": null,
            "grid_auto_columns": null,
            "margin": null,
            "display": null,
            "left": null
          }
        }
      }
    }
  },
  "cells": [
    {
      "cell_type": "markdown",
      "metadata": {
        "id": "SYNxtnqZqTYT"
      },
      "source": [
        "## Introduction "
      ]
    },
    {
      "cell_type": "markdown",
      "metadata": {
        "id": "NYbzUUmynKtQ"
      },
      "source": [
        "Welcome to this Notebook introduction for colab and python/tensorflow.\n",
        "This introduction is intded to guide you into your first steps in using Colab and a quick introduction to python programming language.\n",
        "\n",
        "Colab is a Python development environment that runs in the browser using Google Cloud. It is a platform to facilitate teaching of machine learning/deep learning with GPU support."
      ]
    },
    {
      "cell_type": "markdown",
      "metadata": {
        "id": "w-v_U4EBpAlv"
      },
      "source": [
        "Google colab contains two types of cells, **code cells** and **text cells**.\n",
        "This for example is a text cell.\n",
        "\n",
        "You can add either both types of cells easily by going underneath the cell and choosing the type of cell you want to add.\n",
        "Or by clicking on insert in the upper-left menu and choosing the type of cell."
      ]
    },
    {
      "cell_type": "markdown",
      "metadata": {
        "id": "HnrnWOT6qAlZ"
      },
      "source": [
        "Let's try to add a code cell, where we can execute our first python code. :)\n",
        "\n",
        "To execute the cell, you can either click on the ***play button*** at the left side of the cell \n",
        "or by clicking ***Strg + Enter*** as a shortcut or also ***Shift + Enter*** to execute the cell and create another empty cell after it."
      ]
    },
    {
      "cell_type": "code",
      "metadata": {
        "colab": {
          "base_uri": "https://localhost:8080/"
        },
        "id": "Frk_v06fnF79",
        "outputId": "1019195d-ccb8-4a5c-eab6-a1e2873241e7"
      },
      "source": [
        "# Code cell Example\n",
        "print('Hello World!')"
      ],
      "execution_count": null,
      "outputs": [
        {
          "output_type": "stream",
          "name": "stdout",
          "text": [
            "Hello World!\n"
          ]
        }
      ]
    },
    {
      "cell_type": "markdown",
      "source": [
        "The advantage of using Colab is the free GPU usage. Normally when a opening a new Colab Notebook you will be runing all the computations on the CPU. To change this configuration and switch to the GPU click on **Runtime** (in the upper menu) -> then **change Runtime type** -> then choose from the hardware accelator menu **GPU** and now you're all set."
      ],
      "metadata": {
        "id": "fEAjqE9AgYYH"
      }
    },
    {
      "cell_type": "markdown",
      "source": [
        "Beware that Google colab has a **runtime period for each session**. This means that when there is no activity happening in this notebook (ex: not running any cells), the notebook runtime will reset, and then you need to run everything again to start the runtime."
      ],
      "metadata": {
        "id": "gIOdJHjehdXH"
      }
    },
    {
      "cell_type": "markdown",
      "source": [
        "Now that you have a better understanding on how colab work, we need to cover on more important thing which is uploading files.\n",
        "\n",
        "This will be very important when we want to upload a **data set** for example for later use."
      ],
      "metadata": {
        "id": "hZtNuKoYiHX-"
      }
    },
    {
      "cell_type": "markdown",
      "source": [
        "There is two ways for file upload in Colab.\n",
        "\n",
        "\n",
        "*   The first one is normally uploading the file using the files tab at the left.\n",
        "Once opening this tab, you can click on the icon that says **upload to session storage** and then upload your file.\n",
        "\n",
        "*   The second approach is mounting your google drive here in this session, this has the advantage that if the runtime is disconnected you will not need to re-upload the file again as in the first approach, rather only mount the drive again and voila your data is there everytime.\n",
        "\n",
        "\n",
        "\n",
        "\n"
      ],
      "metadata": {
        "id": "ob5BPOIKifTb"
      }
    },
    {
      "cell_type": "markdown",
      "source": [
        "Mounting your google drive is easy as only running these two cells ;)"
      ],
      "metadata": {
        "id": "9ar5lrLFkSfu"
      }
    },
    {
      "cell_type": "code",
      "source": [
        "# Second approach (Mount from google drive)\n",
        "\n",
        "from google.colab import drive\n",
        "drive.mount('/content/drive')"
      ],
      "metadata": {
        "colab": {
          "base_uri": "https://localhost:8080/"
        },
        "id": "0YxySDjvj8ze",
        "outputId": "01d71fd0-63d5-41da-ff11-95bd0059e8ae"
      },
      "execution_count": null,
      "outputs": [
        {
          "output_type": "stream",
          "name": "stdout",
          "text": [
            "Mounted at /content/drive\n"
          ]
        }
      ]
    },
    {
      "cell_type": "code",
      "source": [
        "with open('/content/drive/My Drive/foo.txt', 'w') as f:\n",
        "  f.write('Hello Google Drive!')\n",
        "!cat /content/drive/My\\ Drive/foo.txt"
      ],
      "metadata": {
        "colab": {
          "base_uri": "https://localhost:8080/"
        },
        "id": "-2eIR0CPj_63",
        "outputId": "0a110872-64fb-4723-f5f5-912aa8c7428d"
      },
      "execution_count": null,
      "outputs": [
        {
          "output_type": "stream",
          "name": "stdout",
          "text": [
            "Hello Google Drive!"
          ]
        }
      ]
    },
    {
      "cell_type": "markdown",
      "metadata": {
        "id": "H3-DOQObqdOi"
      },
      "source": [
        "Let's say we want to download your current work for now, you can navigate the upper-menu bar and click on file and then you can choose how you want to download the current work.\n",
        "\n",
        "while hovering over Download you will get two options:\n",
        "\n",
        "*   Download .ipynb\n",
        "*   Download .py\n",
        "\n",
        "***Download .ipynb*** will download the file as an ipython notebook which is the same format that we are seeing now. (Recommended for now)\n",
        "\n",
        "***Download .py*** will download the file as a python script format.\n"
      ]
    },
    {
      "cell_type": "markdown",
      "metadata": {
        "id": "7Fx0Ykj1ryBv"
      },
      "source": [
        "Opening a saved Notebook is also easy, just simply open [colab.research.google.com](https://colab.research.google.com) and the in the upper-menu choose file and then ***Open Notebook***, and then you can choose from where you want to open your notebook."
      ]
    },
    {
      "cell_type": "markdown",
      "metadata": {
        "id": "z11F8QFusTJl"
      },
      "source": [
        "Normally notebooks will be saved automatically in your google drive, so you can also load them from there."
      ]
    },
    {
      "cell_type": "markdown",
      "metadata": {
        "id": "YbdATOjEsgPu"
      },
      "source": [
        "## Python 101"
      ]
    },
    {
      "cell_type": "markdown",
      "metadata": {
        "id": "9uylrGYeuPxf"
      },
      "source": [
        "Now that we know how we can setup google colab for our develeopment enviroment, we introduce now some of the basic concepts in the python programming language."
      ]
    },
    {
      "cell_type": "markdown",
      "metadata": {
        "id": "YMKaeP4uuic-"
      },
      "source": [
        "For now, the only example that we have seen in python is the printing function "
      ]
    },
    {
      "cell_type": "code",
      "metadata": {
        "colab": {
          "base_uri": "https://localhost:8080/"
        },
        "id": "KuI7pyEvrs1U",
        "outputId": "0d7f777a-20bd-48a8-b1ab-241e078ff9c9"
      },
      "source": [
        "print('Hello World!')"
      ],
      "execution_count": null,
      "outputs": [
        {
          "output_type": "stream",
          "name": "stdout",
          "text": [
            "Hello World!\n"
          ]
        }
      ]
    },
    {
      "cell_type": "markdown",
      "metadata": {
        "id": "PVKlyn20vbZ9"
      },
      "source": [
        "###Variables: \n",
        "\n",
        "You can think about variables as a word that stores a value. Simple as that.\n",
        "\n",
        "\n",
        "In Python it is really easy to define a variable and set a value to it. Imagine you want to store number 1 in a variable called “one”. Let’s do it!"
      ]
    },
    {
      "cell_type": "code",
      "metadata": {
        "id": "wr51NmPGvjnK"
      },
      "source": [
        "one = 1\n",
        "two = 2\n",
        "three = 3\n",
        "# you get the idea ;)"
      ],
      "execution_count": null,
      "outputs": []
    },
    {
      "cell_type": "code",
      "metadata": {
        "colab": {
          "base_uri": "https://localhost:8080/"
        },
        "id": "zF9gVkAhv5mx",
        "outputId": "25af4644-0b38-41e2-9ced-1e1a0f0b165f"
      },
      "source": [
        "# We can also do some simple operations with these numbers\n",
        "\n",
        "# Addition\n",
        "sum = one + two\n",
        "# Subtraction\n",
        "sub = two - one\n",
        "# MUltiplication\n",
        "mult = one * two\n",
        "# Division\n",
        "div = one / two\n",
        "\n",
        "# And then printing the results\n",
        "# Also this is how we can print both strings and variables together ;)\n",
        "print('1 + 2 = ', sum)\n",
        "print('2 - 1 = ', sub)\n",
        "print('1 x 2 = ', mult)\n",
        "print('1 / 2 =', div)"
      ],
      "execution_count": null,
      "outputs": [
        {
          "output_type": "stream",
          "name": "stdout",
          "text": [
            "1 + 2 =  3\n",
            "2 - 1 =  1\n",
            "1 x 2 =  2\n",
            "1 / 2 = 0.5\n"
          ]
        }
      ]
    },
    {
      "cell_type": "markdown",
      "metadata": {
        "id": "IFVR6cEjw1_i"
      },
      "source": [
        "Besides integers, we can also use booleans (True / False), strings, float and so many other data types."
      ]
    },
    {
      "cell_type": "code",
      "metadata": {
        "id": "7ZRJXcERw2qP"
      },
      "source": [
        "# booleans\n",
        "true_boolean = True\n",
        "false_boolean = False\n",
        "\n",
        "# string\n",
        "my_name = \"Max\"\n",
        "\n",
        "# float\n",
        "book_price = 15.80"
      ],
      "execution_count": null,
      "outputs": []
    },
    {
      "cell_type": "markdown",
      "metadata": {
        "id": "dz0CIjZkxCOr"
      },
      "source": [
        "###Control flow"
      ]
    },
    {
      "cell_type": "markdown",
      "metadata": {
        "id": "YbQYFifExWQm"
      },
      "source": [
        "**If statment** uses an expression to evaluate to True or False. If it is True, it executes what it is inside the if statement. For example:"
      ]
    },
    {
      "cell_type": "code",
      "metadata": {
        "colab": {
          "base_uri": "https://localhost:8080/"
        },
        "id": "-V5EdXl-xDg_",
        "outputId": "42f73036-42c0-4287-f869-4533d97705e8"
      },
      "source": [
        "if True:\n",
        "  print(\"Hello Python If\")\n",
        "\n",
        "if False:\n",
        "  print(\"This will not be printed\")\n",
        "\n",
        "if 2 > 1:\n",
        "  print(\"2 is greater than 1\")\n",
        "\n",
        "# using our saved boolean from last cell\n",
        "if true_boolean:\n",
        "  print(\"Hey there\")"
      ],
      "execution_count": null,
      "outputs": [
        {
          "output_type": "stream",
          "name": "stdout",
          "text": [
            "Hello Python If\n",
            "2 is greater than 1\n",
            "Hey there\n"
          ]
        }
      ]
    },
    {
      "cell_type": "markdown",
      "metadata": {
        "id": "7M4Ph_V1x32R"
      },
      "source": [
        "The ***else*** statement will be executed if “if” expression is false."
      ]
    },
    {
      "cell_type": "code",
      "metadata": {
        "colab": {
          "base_uri": "https://localhost:8080/"
        },
        "id": "Bm7Ppw-Zx4N9",
        "outputId": "8c016d0b-3765-424c-e1c1-92dd54206cc8"
      },
      "source": [
        "if 1 > 2:\n",
        "  print(\"1 is greater than 2\")\n",
        "else:\n",
        "  print(\"1 is not greater than 2\")"
      ],
      "execution_count": null,
      "outputs": [
        {
          "output_type": "stream",
          "name": "stdout",
          "text": [
            "1 is not greater than 2\n"
          ]
        }
      ]
    },
    {
      "cell_type": "markdown",
      "metadata": {
        "id": "6rHcjB7MyGD-"
      },
      "source": [
        "You can also use ***elif*** (else if) statement. "
      ]
    },
    {
      "cell_type": "code",
      "metadata": {
        "colab": {
          "base_uri": "https://localhost:8080/"
        },
        "id": "qYMRTrVRyLAo",
        "outputId": "e70134f7-bf02-4418-e4fa-2e65af76ed94"
      },
      "source": [
        "if 1 > 2:\n",
        "  print(\"1 is greater than 2\")\n",
        "elif 2 > 1:\n",
        "  print(\"1 is not greater than 2\")\n",
        "else:\n",
        "  print(\"1 is equal to 2\")"
      ],
      "execution_count": null,
      "outputs": [
        {
          "output_type": "stream",
          "name": "stdout",
          "text": [
            "1 is not greater than 2\n"
          ]
        }
      ]
    },
    {
      "cell_type": "markdown",
      "source": [
        "Now your turn,\n",
        "\n",
        "Intilize two integer variables of your choice (example: int1 = 10, int2 = 3) and try to create an if condition that will only print the string \"Equal numbers\" if the two values are equal to each other, if they are not equal print the string \"Not equal numbers\""
      ],
      "metadata": {
        "id": "w8v7jhEK-czX"
      }
    },
    {
      "cell_type": "code",
      "source": [
        "# cell for question 1\n",
        "\n",
        "\n"
      ],
      "metadata": {
        "id": "zlmoClXJ_hMc"
      },
      "execution_count": null,
      "outputs": []
    },
    {
      "cell_type": "markdown",
      "metadata": {
        "id": "wT6BehvjyVL8"
      },
      "source": [
        "### Looping / Iterator"
      ]
    },
    {
      "cell_type": "markdown",
      "metadata": {
        "id": "CVKVUzc3ybV0"
      },
      "source": [
        "In Python we can iterate in different forms. Mainly for and while loops.\n",
        "\n",
        "***While Looping***: while the statement is True, the code inside the block will be executed. So this code will print the number from 1 to 10."
      ]
    },
    {
      "cell_type": "code",
      "metadata": {
        "colab": {
          "base_uri": "https://localhost:8080/"
        },
        "id": "Dywn9l5-ySap",
        "outputId": "9c188537-8092-42e7-b015-ba21a8711fbf"
      },
      "source": [
        "num = 1\n",
        "\n",
        "while num <= 10:\n",
        "    print(num)\n",
        "    num += 1 # for simiplicity --> num = num + 1"
      ],
      "execution_count": null,
      "outputs": [
        {
          "output_type": "stream",
          "name": "stdout",
          "text": [
            "1\n",
            "2\n",
            "3\n",
            "4\n",
            "5\n",
            "6\n",
            "7\n",
            "8\n",
            "9\n",
            "10\n"
          ]
        }
      ]
    },
    {
      "cell_type": "markdown",
      "metadata": {
        "id": "ody1i8Iay0wl"
      },
      "source": [
        "The while loop needs a “loop condition” and if it keeps True, it continues iterating. In this example, when num is 11 the “loop condition” evaluate to False.\n",
        "\n",
        "Like in this example:"
      ]
    },
    {
      "cell_type": "code",
      "metadata": {
        "colab": {
          "base_uri": "https://localhost:8080/"
        },
        "id": "L4a7OS48y41b",
        "outputId": "71715956-95a5-46f9-a624-62f0f0736b57"
      },
      "source": [
        "loop_condition = True\n",
        "\n",
        "while loop_condition:\n",
        "    print(\"Loop Condition keeps: %s\" %(loop_condition))  # until now the loop_condition is True\n",
        "    loop_condition = False                               # loop condtion just changed to False, while loop will be exited."
      ],
      "execution_count": null,
      "outputs": [
        {
          "output_type": "stream",
          "name": "stdout",
          "text": [
            "Loop Condition keeps: True\n"
          ]
        }
      ]
    },
    {
      "cell_type": "markdown",
      "metadata": {
        "id": "a7bJMz0szKx3"
      },
      "source": [
        "***For Looping***: you pass the variable “num” to the block and the “for” statement will iterate it for you. This code will print the same as “while” code: from 1 to 10."
      ]
    },
    {
      "cell_type": "code",
      "metadata": {
        "colab": {
          "base_uri": "https://localhost:8080/"
        },
        "id": "eTrWsQ9tzIC6",
        "outputId": "a720f4b7-27db-4c68-990a-c6da313b2d86"
      },
      "source": [
        "# Remeber: in python and most programing language we begin counting from 0, so the loop will begin printing from 0 until 9\n",
        "\n",
        "for i in range(10):\n",
        "  print(i)"
      ],
      "execution_count": null,
      "outputs": [
        {
          "output_type": "stream",
          "name": "stdout",
          "text": [
            "0\n",
            "1\n",
            "2\n",
            "3\n",
            "4\n",
            "5\n",
            "6\n",
            "7\n",
            "8\n",
            "9\n"
          ]
        }
      ]
    },
    {
      "cell_type": "code",
      "metadata": {
        "colab": {
          "base_uri": "https://localhost:8080/"
        },
        "id": "zeBz-zJ-zZqh",
        "outputId": "102a5e2f-8d22-4ef4-9ec7-c4050d589ae8"
      },
      "source": [
        "# If we want to loop from 1 to 10 specifically we can also do this with the range function\n",
        "# From a range starting with 1 until the 11th element (10 is the 11th element).\n",
        "\n",
        "for i in range(1, 11): \n",
        "  print(i)"
      ],
      "execution_count": null,
      "outputs": [
        {
          "output_type": "stream",
          "name": "stdout",
          "text": [
            "1\n",
            "2\n",
            "3\n",
            "4\n",
            "5\n",
            "6\n",
            "7\n",
            "8\n",
            "9\n",
            "10\n"
          ]
        }
      ]
    },
    {
      "cell_type": "markdown",
      "source": [
        "Now your turn, \n",
        "\n",
        "Write a for loop so that every item in the given list is printed.\n",
        "\n",
        "List = [\"cat\", \"dog\", \"fox\", \"panda\"]"
      ],
      "metadata": {
        "id": "TQbrRkOd_5Dz"
      }
    },
    {
      "cell_type": "code",
      "source": [
        "# cell for question 2\n",
        "\n",
        "lst = [\"cat\", \"dog\", \"fox\", \"panda\"]\n",
        "\n"
      ],
      "metadata": {
        "id": "mEKXgDvuAIRW"
      },
      "execution_count": null,
      "outputs": []
    },
    {
      "cell_type": "markdown",
      "source": [
        "### Arrays and lists"
      ],
      "metadata": {
        "id": "utSTVtuakmLy"
      }
    },
    {
      "cell_type": "markdown",
      "source": [
        "An array is a collection of items stored at contiguous memory locations. The idea is to store multiple items of the same type together. This makes it easier to calculate the position of each element by simply adding an offset to a base value, i.e., the memory location of the first element of the array (generally denoted by the name of the array)."
      ],
      "metadata": {
        "id": "tFhtymBzrfQg"
      }
    },
    {
      "cell_type": "markdown",
      "source": [
        "NumPy is used to work with arrays. The array object in NumPy is called ndarray.\n",
        "\n",
        "We can create a NumPy ndarray object by using the array() function."
      ],
      "metadata": {
        "id": "1XCBEhZgtb8u"
      }
    },
    {
      "cell_type": "code",
      "source": [
        "# we need first to import the numpy library\n",
        "\n",
        "import numpy as np\n"
      ],
      "metadata": {
        "id": "beAveHmstNtC"
      },
      "execution_count": null,
      "outputs": []
    },
    {
      "cell_type": "code",
      "source": [
        "arr = np.array([1, 2, 3, 4, 5])\n",
        "\n",
        "print(arr)\n"
      ],
      "metadata": {
        "colab": {
          "base_uri": "https://localhost:8080/"
        },
        "id": "v1ePB8R8tkTG",
        "outputId": "d7a2b3ba-0b35-419b-fb83-ca3d2982a983"
      },
      "execution_count": null,
      "outputs": [
        {
          "output_type": "stream",
          "name": "stdout",
          "text": [
            "[1 2 3 4 5]\n"
          ]
        }
      ]
    },
    {
      "cell_type": "code",
      "source": [
        "# to access an element in an array\n",
        "\n",
        "print('First element in the array:', arr[0])\n",
        "print('Second element in the array:', arr[1])"
      ],
      "metadata": {
        "colab": {
          "base_uri": "https://localhost:8080/"
        },
        "id": "g2qtWG9ytpPb",
        "outputId": "e292b750-6b7f-459a-ba2b-ba497b925062"
      },
      "execution_count": null,
      "outputs": [
        {
          "output_type": "stream",
          "name": "stdout",
          "text": [
            "First element in the array: 1\n",
            "Second element in the array: 2\n"
          ]
        }
      ]
    },
    {
      "cell_type": "code",
      "source": [
        "# to get an array shape\n",
        "\n",
        "print('Array shape:', arr.shape)"
      ],
      "metadata": {
        "colab": {
          "base_uri": "https://localhost:8080/"
        },
        "id": "kgIOmQaet1cr",
        "outputId": "816f4768-27f3-481e-a49a-40dc4eb0a7b0"
      },
      "execution_count": null,
      "outputs": [
        {
          "output_type": "stream",
          "name": "stdout",
          "text": [
            "Array shape: (5,)\n"
          ]
        }
      ]
    },
    {
      "cell_type": "markdown",
      "source": [
        "During machine learning and deep learning tasks, we will be dealing with multidimensional arrays for example in images which are nothing but a matrix or an array of arrays.\n",
        "\n",
        "Example:\n",
        "An image shape would be something like this: (28, 28, 1)"
      ],
      "metadata": {
        "id": "JFc4ylOat61F"
      }
    },
    {
      "cell_type": "code",
      "source": [
        "# to intilize a multidimensional array (2,3)\n",
        "array1 = np.array([[1,2,3], [4,5,6]])\n",
        "\n",
        "\n",
        "print('Array:', array1)\n",
        "print('Array shape:', array1.shape)\n",
        "print('')\n",
        "\n",
        "\n",
        "# now lets access the first element in the first array\n",
        "print('first element in the first array is',array1[0][0])\n",
        "\n",
        "#your turn...\n"
      ],
      "metadata": {
        "colab": {
          "base_uri": "https://localhost:8080/"
        },
        "id": "cx3yhiP7uXmc",
        "outputId": "5295ea30-f2e1-4960-aded-c38ce318e060"
      },
      "execution_count": null,
      "outputs": [
        {
          "output_type": "stream",
          "name": "stdout",
          "text": [
            "Array: [[1 2 3]\n",
            " [4 5 6]]\n",
            "Array shape: (2, 3)\n",
            "\n",
            "first element in the first array is 1\n"
          ]
        }
      ]
    },
    {
      "cell_type": "markdown",
      "source": [
        "**Lists** are used to store multiple items in a single variable."
      ],
      "metadata": {
        "id": "MnxWCau-sy0b"
      }
    },
    {
      "cell_type": "code",
      "source": [
        "#to intilize list in python\n",
        "\n",
        "# empty list\n",
        "a = []\n",
        "\n",
        "\n",
        "# list with values\n",
        "b = [1,2,3,4]\n",
        "\n",
        "\n",
        "# can also work with stings\n",
        "c = ['one', 'two', 'three']"
      ],
      "metadata": {
        "id": "V_VlzGqTksqP"
      },
      "execution_count": null,
      "outputs": []
    },
    {
      "cell_type": "code",
      "source": [
        "# to access an element in an List\n",
        "\n",
        "# acess it with the index (remeber in python we begin counting from 0 not 1)\n",
        "print('Array b values:', b)\n",
        "print('first item in the List:', b[0])\n",
        "print('second item in the List:', b[1])"
      ],
      "metadata": {
        "colab": {
          "base_uri": "https://localhost:8080/"
        },
        "id": "ZQHgNpgaryiN",
        "outputId": "3fdd972c-e864-47b5-ba65-62a36975be5d"
      },
      "execution_count": null,
      "outputs": [
        {
          "output_type": "stream",
          "name": "stdout",
          "text": [
            "Array b values: [1, 2, 3, 4]\n",
            "first item in the array: 1\n",
            "second item in the array: 2\n"
          ]
        }
      ]
    },
    {
      "cell_type": "code",
      "source": [
        "# each list has a shape\n",
        "# to know the list shape:\n",
        "\n",
        "print(len(b))"
      ],
      "metadata": {
        "colab": {
          "base_uri": "https://localhost:8080/"
        },
        "id": "PqaLhspjsPZ7",
        "outputId": "f66fdcf0-91ba-4188-c2e0-1bca01fe9a34"
      },
      "execution_count": null,
      "outputs": [
        {
          "output_type": "stream",
          "name": "stdout",
          "text": [
            "4\n"
          ]
        }
      ]
    },
    {
      "cell_type": "code",
      "source": [
        "# we can iterate through the List values using a for loop\n",
        "\n",
        "for i in range(len(b)):\n",
        "  print(b[i])"
      ],
      "metadata": {
        "colab": {
          "base_uri": "https://localhost:8080/"
        },
        "id": "MKDe25hHsIYU",
        "outputId": "7da58a52-ae5e-4ae5-9626-de9c58ff15be"
      },
      "execution_count": null,
      "outputs": [
        {
          "output_type": "stream",
          "name": "stdout",
          "text": [
            "1\n",
            "2\n",
            "3\n",
            "4\n"
          ]
        }
      ]
    },
    {
      "cell_type": "code",
      "source": [
        "# to add a new item at the end of a list\n",
        "\n",
        "b.append(10)\n",
        "print('List length:', len(b))\n",
        "print('List values:', b)"
      ],
      "metadata": {
        "colab": {
          "base_uri": "https://localhost:8080/"
        },
        "id": "V-VhqYJ0s79u",
        "outputId": "126ad74e-ce24-4737-83a6-f72f98567c9c"
      },
      "execution_count": null,
      "outputs": [
        {
          "output_type": "stream",
          "name": "stdout",
          "text": [
            "List length: 5\n",
            "List values: [1, 2, 3, 4, 10]\n"
          ]
        }
      ]
    },
    {
      "cell_type": "markdown",
      "source": [
        "Now your turn, \n",
        "\n",
        "Create an array of integers of your choice, and iterate through the array printing **only** the first 2 numbers in the array."
      ],
      "metadata": {
        "id": "o8Gv5ndyAiDy"
      }
    },
    {
      "cell_type": "code",
      "source": [
        "## cell for question 3\n",
        "\n"
      ],
      "metadata": {
        "id": "pdhuHvDLA0fr"
      },
      "execution_count": null,
      "outputs": []
    },
    {
      "cell_type": "markdown",
      "source": [
        "### Installing packages and importing libraries"
      ],
      "metadata": {
        "id": "JDQW47mt5ED_"
      }
    },
    {
      "cell_type": "markdown",
      "source": [
        "We can also install python packages and import libraries easily as if we are working in a terminal. "
      ],
      "metadata": {
        "id": "usRfKMDa5JcS"
      }
    },
    {
      "cell_type": "markdown",
      "source": [
        "To import a library that's not in Colaboratory by default, you can use `!pip install` or `!apt-get install`."
      ],
      "metadata": {
        "id": "bBAAgNtn5dkD"
      }
    },
    {
      "cell_type": "code",
      "source": [
        "# Example\n",
        "!apt-get -qq install -y libfluidsynth1"
      ],
      "metadata": {
        "id": "kiH8LgrU5IHx"
      },
      "execution_count": null,
      "outputs": []
    },
    {
      "cell_type": "markdown",
      "source": [
        "Example: Install 7zip reader [libarchive](https://pypi.python.org/pypi/libarchive) "
      ],
      "metadata": {
        "id": "WzPbDc5s5kFk"
      }
    },
    {
      "cell_type": "code",
      "source": [
        "# https://pypi.python.org/pypi/libarchive\n",
        "!apt-get -qq install -y libarchive-dev && pip install -U libarchive\n",
        "import libarchive"
      ],
      "metadata": {
        "id": "02orXmVR53Cj"
      },
      "execution_count": null,
      "outputs": []
    },
    {
      "cell_type": "markdown",
      "source": [
        "# PyTorch"
      ],
      "metadata": {
        "id": "v2brWvH36DiC"
      }
    },
    {
      "cell_type": "markdown",
      "source": [
        "**PyTorch** is an open source machine learning (ML) framework based on the Python programming language and the Torch library. It is one of the preferred platforms for deep learning research. \n",
        "\n",
        "\n",
        "PyTorch is similar to NumPy and computes using tensors that are accelerated by graphics processing units (GPU). Tensors are simillar to arrays."
      ],
      "metadata": {
        "id": "Vpkw5Nk26alo"
      }
    },
    {
      "cell_type": "markdown",
      "source": [
        "We first need to import the torch module into this colab notebook"
      ],
      "metadata": {
        "id": "POarWF507oCk"
      }
    },
    {
      "cell_type": "code",
      "source": [
        "import torch"
      ],
      "metadata": {
        "id": "43qD39tE7ndU"
      },
      "execution_count": null,
      "outputs": []
    },
    {
      "cell_type": "markdown",
      "source": [
        "## Tensors"
      ],
      "metadata": {
        "id": "ydZeWWkE6q47"
      }
    },
    {
      "cell_type": "markdown",
      "source": [
        "Tensors can be initialized in various ways. Take a look at the following examples:"
      ],
      "metadata": {
        "id": "Jtw8D6eh7Y7Y"
      }
    },
    {
      "cell_type": "code",
      "source": [
        "# Tensors can be created directly from data. The data type is automatically inferred.\n",
        "t1 = [[1, 2], [3, 4]]\n",
        "print('Tensor:', t1)\n",
        "t1_data = torch.tensor(t1)\n",
        "\n",
        "print('')\n",
        "####################################\n",
        "\n",
        "# Tensors can be created from NumPy arrays (and vice versa)\n",
        "import numpy as np # don't forget to import numpy if you did not do it already\n",
        "\n",
        "# from tensor to numpy array\n",
        "np_array = np.array(t1)\n",
        "print('Numpy array:', np_array)\n",
        "# from numpy array to tensor \n",
        "x_np = torch.from_numpy(np_array)\n",
        "\n",
        "print('')\n",
        "#####################################\n",
        "\n",
        "# Lastly tesnors can also be created from another tensors \n",
        "x_ones = torch.ones_like(t1_data) # retains the properties of t1_data\n",
        "print('Ones Tensor:', x_ones) # creating tensors that only consists of values of 1\n",
        "\n",
        "x_rand = torch.rand_like(t1_data, dtype=torch.float) # overrides the datatype of x_data\n",
        "print('Random Tensor:', x_rand) # creating tensors that consists of random numbers."
      ],
      "metadata": {
        "colab": {
          "base_uri": "https://localhost:8080/"
        },
        "id": "AhHGm1fg6GQz",
        "outputId": "b32a09c8-ebbf-4559-d4e3-e8ecb42f2462"
      },
      "execution_count": null,
      "outputs": [
        {
          "output_type": "stream",
          "name": "stdout",
          "text": [
            "Tensor: [[1, 2], [3, 4]]\n",
            "\n",
            "Numpy array: [[1 2]\n",
            " [3 4]]\n",
            "\n",
            "Ones Tensor: tensor([[1, 1],\n",
            "        [1, 1]])\n",
            "Random Tensor: tensor([[0.1523, 0.6297],\n",
            "        [0.3526, 0.6942]])\n"
          ]
        }
      ]
    },
    {
      "cell_type": "markdown",
      "source": [
        "Creating different shapes of tensors"
      ],
      "metadata": {
        "id": "4atD4BHT9LNm"
      }
    },
    {
      "cell_type": "code",
      "source": [
        "# torch.tensor(data) creates a torch.Tensor object with the given data.\n",
        "V_data = [1., 2., 3.]\n",
        "V = torch.tensor(V_data)\n",
        "print(V)\n",
        "\n",
        "# Creates a matrix\n",
        "M_data = [[1., 2., 3.], [4., 5., 6]]\n",
        "M = torch.tensor(M_data)\n",
        "print(M)\n",
        "\n",
        "# Create a 3D tensor of size 2x2x2.\n",
        "T_data = [[[1., 2.], [3., 4.]],\n",
        "          [[5., 6.], [7., 8.]]]\n",
        "T = torch.tensor(T_data)\n",
        "print(T)"
      ],
      "metadata": {
        "colab": {
          "base_uri": "https://localhost:8080/"
        },
        "id": "EgXHhWij9K7u",
        "outputId": "be5b5535-cc3f-4a2f-bdd8-8ac7031cbc98"
      },
      "execution_count": null,
      "outputs": [
        {
          "output_type": "stream",
          "name": "stdout",
          "text": [
            "tensor([1., 2., 3.])\n",
            "tensor([[1., 2., 3.],\n",
            "        [4., 5., 6.]])\n",
            "tensor([[[1., 2.],\n",
            "         [3., 4.]],\n",
            "\n",
            "        [[5., 6.],\n",
            "         [7., 8.]]])\n"
          ]
        }
      ]
    },
    {
      "cell_type": "markdown",
      "source": [
        "Operations with Tensors"
      ],
      "metadata": {
        "id": "GE8G4Yfp9YAr"
      }
    },
    {
      "cell_type": "code",
      "source": [
        "# We can operate on tensors in the ways we would expect.\n",
        "x = torch.tensor([1., 2., 3.])\n",
        "y = torch.tensor([4., 5., 6.])\n",
        "z = x + y\n",
        "print(z)"
      ],
      "metadata": {
        "colab": {
          "base_uri": "https://localhost:8080/"
        },
        "id": "Qt80XvTm9Ydf",
        "outputId": "0590bebe-8114-4b44-d38a-f2010aecfdc3"
      },
      "execution_count": null,
      "outputs": [
        {
          "output_type": "stream",
          "name": "stdout",
          "text": [
            "tensor([5., 7., 9.])\n"
          ]
        }
      ]
    },
    {
      "cell_type": "markdown",
      "source": [
        "Reshaping Tensors"
      ],
      "metadata": {
        "id": "2CGKP2I79og7"
      }
    },
    {
      "cell_type": "markdown",
      "source": [
        "Reshaping tensors is very important because later on we will see that many neural network components expect their inputs to have a certain shape. Often you will need to reshape before passing your data to the component. We use the .view\n",
        "method to reshape a tensor.\n"
      ],
      "metadata": {
        "id": "0glMEiAW9r6u"
      }
    },
    {
      "cell_type": "code",
      "source": [
        "x = torch.randn(2, 3, 4)\n",
        "print(x)\n",
        "print(x.view(2, 12))  # Reshape to 2 rows, 12 columns\n",
        "# Same as above.  If one of the dimensions is -1, its size can be inferred\n",
        "print(x.view(2, -1))"
      ],
      "metadata": {
        "colab": {
          "base_uri": "https://localhost:8080/"
        },
        "id": "QaZ3VW1_9ox3",
        "outputId": "57f5ca08-07cd-454e-898b-e7d989962d79"
      },
      "execution_count": null,
      "outputs": [
        {
          "output_type": "stream",
          "name": "stdout",
          "text": [
            "tensor([[[-0.1812, -1.2383, -0.7519, -0.1108],\n",
            "         [-0.6892,  1.4070,  2.2518, -1.3524],\n",
            "         [ 1.8893, -0.0454, -0.9163,  0.2322]],\n",
            "\n",
            "        [[-0.6381,  0.5734,  0.7360,  0.5408],\n",
            "         [ 0.2858, -1.4548, -0.7285,  0.2263],\n",
            "         [-0.7442, -1.7281,  0.7661,  1.5605]]])\n",
            "tensor([[-0.1812, -1.2383, -0.7519, -0.1108, -0.6892,  1.4070,  2.2518, -1.3524,\n",
            "          1.8893, -0.0454, -0.9163,  0.2322],\n",
            "        [-0.6381,  0.5734,  0.7360,  0.5408,  0.2858, -1.4548, -0.7285,  0.2263,\n",
            "         -0.7442, -1.7281,  0.7661,  1.5605]])\n",
            "tensor([[-0.1812, -1.2383, -0.7519, -0.1108, -0.6892,  1.4070,  2.2518, -1.3524,\n",
            "          1.8893, -0.0454, -0.9163,  0.2322],\n",
            "        [-0.6381,  0.5734,  0.7360,  0.5408,  0.2858, -1.4548, -0.7285,  0.2263,\n",
            "         -0.7442, -1.7281,  0.7661,  1.5605]])\n"
          ]
        }
      ]
    },
    {
      "cell_type": "markdown",
      "source": [
        "If you would like to dive deep into PyTorch you can of course do it.\n",
        "PyTorch offers some tutorials for beginners https://pytorch.org/tutorials/\n",
        "You can also read the documentation to understand more how PyTorch is used https://pytorch.org/docs/stable/index.html"
      ],
      "metadata": {
        "id": "x2z-HwAl9-TQ"
      }
    },
    {
      "cell_type": "markdown",
      "source": [
        "Now your turn,\n",
        "\n",
        "Define two matrices (Matrix A and Matrix B) with any shape you like, these vectors can be either intialized with random values or with pre-defined values, and multiply those vectors toghther. \n",
        "\n",
        "You may want to refresh your general matrix understanding before implmenting this question https://www.khanacademy.org/math/precalculus/x9e81a4f98389efdf:matrices/x9e81a4f98389efdf:properties-of-matrix-multiplication/a/properties-of-matrix-multiplication\n",
        "\n",
        "The pytorch documentation can also be helpful https://pytorch.org/docs/stable/index.html"
      ],
      "metadata": {
        "id": "wPYDiYsi8dUW"
      }
    },
    {
      "cell_type": "code",
      "source": [
        "#Question 4\n",
        "\n"
      ],
      "metadata": {
        "id": "lbR7GWOs9_-Z"
      },
      "execution_count": null,
      "outputs": []
    },
    {
      "cell_type": "markdown",
      "source": [
        "## PyTorch and Deep Learning "
      ],
      "metadata": {
        "id": "KO11xIKfPEQb"
      }
    },
    {
      "cell_type": "markdown",
      "source": [
        "In this section we give a small tutorial on how one can build a simple image classifier using PyTorch."
      ],
      "metadata": {
        "id": "jS9f5bC4Ps62"
      }
    },
    {
      "cell_type": "markdown",
      "source": [
        "Generally Image classification is a supervised learning problem, in which we train a model to recognize objects in images and categorize them to a specific label.\n",
        "Example: A classifier is trained to try to classify between which images contain a **dog** or a **cat**."
      ],
      "metadata": {
        "id": "PtGPr9MoQOVg"
      }
    },
    {
      "cell_type": "markdown",
      "source": [
        "In this tutorial we will build a simple neural network to classify images from different classes (CIFAR10 data set)."
      ],
      "metadata": {
        "id": "YIQFvaTxRL34"
      }
    },
    {
      "cell_type": "code",
      "source": [
        "# we first load and normalize the data\n",
        "import torch\n",
        "import torchvision\n",
        "import torchvision.transforms as transforms\n",
        "\n",
        "\n",
        "transform = transforms.Compose(\n",
        "    [transforms.ToTensor(),\n",
        "     transforms.Normalize((0.5, 0.5, 0.5), (0.5, 0.5, 0.5))])\n",
        "\n",
        "batch_size = 4\n",
        "\n",
        "trainset = torchvision.datasets.CIFAR10(root='./data', train=True,\n",
        "                                        download=True, transform=transform)\n",
        "trainloader = torch.utils.data.DataLoader(trainset, batch_size=batch_size,\n",
        "                                          shuffle=True, num_workers=2)\n",
        "\n",
        "testset = torchvision.datasets.CIFAR10(root='./data', train=False,\n",
        "                                       download=True, transform=transform)\n",
        "testloader = torch.utils.data.DataLoader(testset, batch_size=batch_size,\n",
        "                                         shuffle=False, num_workers=2)\n",
        "\n",
        "classes = ('plane', 'car', 'bird', 'cat',\n",
        "           'deer', 'dog', 'frog', 'horse', 'ship', 'truck')"
      ],
      "metadata": {
        "colab": {
          "base_uri": "https://localhost:8080/",
          "height": 100,
          "referenced_widgets": [
            "1945d0c01f0e4a6a89c9cdd050a4654d",
            "449f8cde69eb407da9b0df8e6ce21a78",
            "ff50f872bc8e4b53835c4e7ecce0c4bd",
            "0ad11db4485943f7816ff6f1e64015a2",
            "f946cbd3208b4294ac15ffca5b334fe5",
            "dfb5aa01fb8c435589abfc7d172b1676",
            "4ba032947ef840d1a18322fd32e4663e",
            "d289ae99961c4d02b980f7f0af07f545",
            "3bf45fc38cb34af597a7e8dadee487e2",
            "7bd99f5deeae4f07a54faf24c9693a67",
            "9045aee119f549b0bef2257389e9eff7"
          ]
        },
        "id": "GvEylZKVRdu3",
        "outputId": "530844e7-c215-4803-d4d5-5f3b9e32c366"
      },
      "execution_count": 1,
      "outputs": [
        {
          "output_type": "stream",
          "name": "stdout",
          "text": [
            "Downloading https://www.cs.toronto.edu/~kriz/cifar-10-python.tar.gz to ./data/cifar-10-python.tar.gz\n"
          ]
        },
        {
          "output_type": "display_data",
          "data": {
            "application/vnd.jupyter.widget-view+json": {
              "model_id": "1945d0c01f0e4a6a89c9cdd050a4654d",
              "version_minor": 0,
              "version_major": 2
            },
            "text/plain": [
              "  0%|          | 0/170498071 [00:00<?, ?it/s]"
            ]
          },
          "metadata": {}
        },
        {
          "output_type": "stream",
          "name": "stdout",
          "text": [
            "Extracting ./data/cifar-10-python.tar.gz to ./data\n",
            "Files already downloaded and verified\n"
          ]
        }
      ]
    },
    {
      "cell_type": "markdown",
      "source": [
        "Lets look at some of the downloaded images"
      ],
      "metadata": {
        "id": "zI5yDeBiR14k"
      }
    },
    {
      "cell_type": "code",
      "source": [
        "#Running the cell each time will show random images everytime alongside with their labels ;)\n",
        "\n",
        "import matplotlib.pyplot as plt\n",
        "import numpy as np\n",
        "\n",
        "# functions to show an image\n",
        "def imshow(img):\n",
        "    img = img / 2 + 0.5     # unnormalize\n",
        "    npimg = img.numpy()\n",
        "    plt.imshow(np.transpose(npimg, (1, 2, 0)))\n",
        "    plt.show()\n",
        "\n",
        "\n",
        "# get some random training images\n",
        "dataiter = iter(trainloader)\n",
        "images, labels = dataiter.next()\n",
        "\n",
        "# show images\n",
        "imshow(torchvision.utils.make_grid(images))\n",
        "# print labels\n",
        "print(' '.join(f'{classes[labels[j]]:5s}' for j in range(batch_size)))"
      ],
      "metadata": {
        "colab": {
          "base_uri": "https://localhost:8080/",
          "height": 155
        },
        "id": "_orJMj5TR0IN",
        "outputId": "8870f55a-2cad-441a-b07c-d641ca9cc4a0"
      },
      "execution_count": 3,
      "outputs": [
        {
          "output_type": "display_data",
          "data": {
            "image/png": "[encoded data removed]",
            "text/plain": [
              "<Figure size 432x288 with 1 Axes>"
            ]
          },
          "metadata": {
            "needs_background": "light"
          }
        },
        {
          "output_type": "stream",
          "name": "stdout",
          "text": [
            "ship  ship  bird  ship \n"
          ]
        }
      ]
    },
    {
      "cell_type": "markdown",
      "source": [
        "Let's define our model"
      ],
      "metadata": {
        "id": "iBlQhsWGSM6A"
      }
    },
    {
      "cell_type": "code",
      "source": [
        "#Build simple CNN\n",
        "\n",
        "import torch.nn as nn\n",
        "import torch.nn.functional as F\n",
        "\n",
        "class Net(nn.Module):\n",
        "    def __init__(self):\n",
        "        super().__init__()\n",
        "        self.conv1 = nn.Conv2d(3, 6, 5)\n",
        "        self.pool = nn.MaxPool2d(2, 2)\n",
        "        self.conv2 = nn.Conv2d(6, 16, 5)\n",
        "        self.fc1 = nn.Linear(16 * 5 * 5, 120)\n",
        "        self.fc2 = nn.Linear(120, 84)\n",
        "        self.fc3 = nn.Linear(84, 10)\n",
        "        \n",
        "    #create forward pass\n",
        "    def forward(self, x):\n",
        "        x = self.pool(F.relu(self.conv1(x)))\n",
        "        x = self.pool(F.relu(self.conv2(x)))\n",
        "        x = torch.flatten(x, 1) # flatten all dimensions except batch\n",
        "        x = F.relu(self.fc1(x))\n",
        "        x = F.relu(self.fc2(x))\n",
        "        x = self.fc3(x)\n",
        "        return x\n",
        "\n",
        "\n",
        "net = Net()"
      ],
      "metadata": {
        "id": "dvh_oHANSPVw"
      },
      "execution_count": 4,
      "outputs": []
    },
    {
      "cell_type": "code",
      "source": [
        "#define optimzer and loss function \n",
        "\n",
        "import torch.optim as optim\n",
        "\n",
        "criterion = nn.CrossEntropyLoss()\n",
        "optimizer = optim.SGD(net.parameters(), lr=0.001, momentum=0.9)"
      ],
      "metadata": {
        "id": "7_5IqhR4STHy"
      },
      "execution_count": 5,
      "outputs": []
    },
    {
      "cell_type": "markdown",
      "source": [
        "Model training"
      ],
      "metadata": {
        "id": "9M0jC66CSjwG"
      }
    },
    {
      "cell_type": "code",
      "source": [
        "for epoch in range(2):  # loop over the dataset multiple times\n",
        "\n",
        "    running_loss = 0.0\n",
        "    for i, data in enumerate(trainloader, 0):\n",
        "        # get the inputs; data is a list of [inputs, labels]\n",
        "        inputs, labels = data\n",
        "\n",
        "        # zero the parameter gradients\n",
        "        optimizer.zero_grad()\n",
        "\n",
        "        # forward + backward + optimize\n",
        "        outputs = net(inputs)\n",
        "        loss = criterion(outputs, labels)\n",
        "        loss.backward()\n",
        "        optimizer.step()\n",
        "\n",
        "        # print statistics\n",
        "        running_loss += loss.item()\n",
        "        if i % 2000 == 1999:    # print every 2000 mini-batches\n",
        "            print(f'[{epoch + 1}, {i + 1:5d}] loss: {running_loss / 2000:.3f}')\n",
        "            running_loss = 0.0\n",
        "\n",
        "print('Finished Training')"
      ],
      "metadata": {
        "colab": {
          "base_uri": "https://localhost:8080/"
        },
        "id": "Io2XhQCQSigW",
        "outputId": "6caddbfb-ed06-46da-a6bb-9ba3b5fd5b43"
      },
      "execution_count": 6,
      "outputs": [
        {
          "output_type": "stream",
          "name": "stdout",
          "text": [
            "[1,  2000] loss: 2.183\n",
            "[1,  4000] loss: 1.896\n",
            "[1,  6000] loss: 1.690\n",
            "[1,  8000] loss: 1.592\n",
            "[1, 10000] loss: 1.513\n",
            "[1, 12000] loss: 1.473\n",
            "[2,  2000] loss: 1.415\n",
            "[2,  4000] loss: 1.385\n",
            "[2,  6000] loss: 1.325\n",
            "[2,  8000] loss: 1.300\n",
            "[2, 10000] loss: 1.295\n",
            "[2, 12000] loss: 1.273\n",
            "Finished Training\n"
          ]
        }
      ]
    },
    {
      "cell_type": "markdown",
      "source": [
        "After training our simple model, we can test it on other data to observe if our model classifies images correctly."
      ],
      "metadata": {
        "id": "2ukUfu1BT04t"
      }
    },
    {
      "cell_type": "code",
      "source": [
        "dataiter = iter(testloader)\n",
        "images, labels = dataiter.next()\n",
        "\n",
        "# print images\n",
        "imshow(torchvision.utils.make_grid(images))\n",
        "print('GroundTruth: ', ' '.join(f'{classes[labels[j]]:5s}' for j in range(4)))\n",
        "\n",
        "outputs = net(images)\n",
        "_, predicted = torch.max(outputs, 1)\n",
        "\n",
        "print('Predicted: ', ' '.join(f'{classes[predicted[j]]:5s}'\n",
        "                              for j in range(4)))"
      ],
      "metadata": {
        "colab": {
          "base_uri": "https://localhost:8080/",
          "height": 172
        },
        "id": "bc6i226pT0nX",
        "outputId": "0b0d52d4-e5b6-4e5a-8a8f-1c58c8fb1acb"
      },
      "execution_count": 10,
      "outputs": [
        {
          "output_type": "display_data",
          "data": {
            "image/png": "[encoded data removed]",
            "text/plain": [
              "<Figure size 432x288 with 1 Axes>"
            ]
          },
          "metadata": {
            "needs_background": "light"
          }
        },
        {
          "output_type": "stream",
          "name": "stdout",
          "text": [
            "GroundTruth:  cat   ship  ship  plane\n",
            "Predicted:  cat   ship  ship  ship \n"
          ]
        }
      ]
    },
    {
      "cell_type": "markdown",
      "source": [
        "We can see from the prediction results, that our model performs pretty good.\n",
        "\n",
        "Now let's test our model on more data."
      ],
      "metadata": {
        "id": "Icry9toHUZx_"
      }
    },
    {
      "cell_type": "code",
      "source": [
        "correct = 0\n",
        "total = 0\n",
        "# since we're not training, we don't need to calculate the gradients for our outputs\n",
        "with torch.no_grad():\n",
        "    for data in testloader:\n",
        "        images, labels = data\n",
        "        # calculate outputs by running images through the network\n",
        "        outputs = net(images)\n",
        "        # the class with the highest energy is what we choose as prediction\n",
        "        _, predicted = torch.max(outputs.data, 1)\n",
        "        total += labels.size(0)\n",
        "        correct += (predicted == labels).sum().item()\n",
        "\n",
        "print(f'Accuracy of the network on the 10000 test images: {100 * correct // total} %')"
      ],
      "metadata": {
        "colab": {
          "base_uri": "https://localhost:8080/"
        },
        "id": "9AuYb3VPUgR5",
        "outputId": "9f2db007-ecb8-4471-8d8d-03b7e3619e80"
      },
      "execution_count": 11,
      "outputs": [
        {
          "output_type": "stream",
          "name": "stdout",
          "text": [
            "Accuracy of the network on the 10000 test images: 55 %\n"
          ]
        }
      ]
    },
    {
      "cell_type": "markdown",
      "source": [
        "We can also test our model and show the accuracies for each image class as well."
      ],
      "metadata": {
        "id": "RX3IF8_SUqao"
      }
    },
    {
      "cell_type": "code",
      "source": [
        "# prepare to count predictions for each class\n",
        "correct_pred = {classname: 0 for classname in classes}\n",
        "total_pred = {classname: 0 for classname in classes}\n",
        "\n",
        "# again no gradients needed\n",
        "with torch.no_grad():\n",
        "    for data in testloader:\n",
        "        images, labels = data\n",
        "        outputs = net(images)\n",
        "        _, predictions = torch.max(outputs, 1)\n",
        "        # collect the correct predictions for each class\n",
        "        for label, prediction in zip(labels, predictions):\n",
        "            if label == prediction:\n",
        "                correct_pred[classes[label]] += 1\n",
        "            total_pred[classes[label]] += 1\n",
        "\n",
        "\n",
        "# print accuracy for each class\n",
        "for classname, correct_count in correct_pred.items():\n",
        "    accuracy = 100 * float(correct_count) / total_pred[classname]\n",
        "    print(f'Accuracy for class: {classname:5s} is {accuracy:.1f} %')"
      ],
      "metadata": {
        "colab": {
          "base_uri": "https://localhost:8080/"
        },
        "id": "fwQ78KaDUoeS",
        "outputId": "268c6d14-f93a-4276-df7d-4af1fac695d7"
      },
      "execution_count": 12,
      "outputs": [
        {
          "output_type": "stream",
          "name": "stdout",
          "text": [
            "Accuracy for class: plane is 53.7 %\n",
            "Accuracy for class: car   is 59.9 %\n",
            "Accuracy for class: bird  is 28.7 %\n",
            "Accuracy for class: cat   is 53.1 %\n",
            "Accuracy for class: deer  is 44.6 %\n",
            "Accuracy for class: dog   is 51.9 %\n",
            "Accuracy for class: frog  is 54.3 %\n",
            "Accuracy for class: horse is 63.5 %\n",
            "Accuracy for class: ship  is 71.1 %\n",
            "Accuracy for class: truck is 71.0 %\n"
          ]
        }
      ]
    },
    {
      "cell_type": "markdown",
      "source": [
        "# Answers for the questions"
      ],
      "metadata": {
        "id": "p1dJSRoVA4P6"
      }
    },
    {
      "cell_type": "markdown",
      "source": [
        "Feel free to try other examples and play with the code in general to get a better feel and to get confident with python in general."
      ],
      "metadata": {
        "id": "nTp-aSijCHuq"
      }
    },
    {
      "cell_type": "markdown",
      "source": [
        "Question 1 \n",
        "\n",
        "Intilize two integer variables of your choice (example: int1 = 10, int2 = 3) and try to create an if condition that will only print the string \"Equal numbers\" if the two values are equal to each other, if they are not equal print the string \"Not equal numbers\""
      ],
      "metadata": {
        "id": "bavkMARvBCk0"
      }
    },
    {
      "cell_type": "code",
      "source": [
        "int1 = 5\n",
        "int2 = 5\n",
        "\n",
        "if int1 == int2:\n",
        "  print('Equal numbers')\n",
        "else:\n",
        "  print('Not equal numbers')"
      ],
      "metadata": {
        "colab": {
          "base_uri": "https://localhost:8080/"
        },
        "id": "eLAPK4x_A7pd",
        "outputId": "fe561f24-c997-4ebb-8962-4fdbeb8b9fc1"
      },
      "execution_count": null,
      "outputs": [
        {
          "output_type": "stream",
          "name": "stdout",
          "text": [
            "Equal numbers\n"
          ]
        }
      ]
    },
    {
      "cell_type": "markdown",
      "source": [
        "Question 2\n",
        "\n",
        "Write a for loop so that every item in the given list is printed.\n",
        "\n",
        "List = [\"cat\", \"dog\", \"fox\", \"panda\"]"
      ],
      "metadata": {
        "id": "HG-MY9RlBZ7G"
      }
    },
    {
      "cell_type": "code",
      "source": [
        "lst = [\"cat\", \"dog\", \"fox\", \"panda\"]\n",
        "\n",
        "for i in lst:\n",
        "  print(i)"
      ],
      "metadata": {
        "colab": {
          "base_uri": "https://localhost:8080/"
        },
        "id": "ajBoCU-dBeqx",
        "outputId": "ffb77ebc-38ef-4c3c-db65-a05293173462"
      },
      "execution_count": null,
      "outputs": [
        {
          "output_type": "stream",
          "name": "stdout",
          "text": [
            "cat\n",
            "dog\n",
            "fox\n",
            "panda\n"
          ]
        }
      ]
    },
    {
      "cell_type": "markdown",
      "source": [
        "Question 3\n",
        "\n",
        "Create an array of integers of your choice, and iterate through the array printing **only** the first 2 numbers in the array."
      ],
      "metadata": {
        "id": "oIUad6H2Bq0E"
      }
    },
    {
      "cell_type": "code",
      "source": [
        "arr = np.array([1, 2, 3, 4, 5])\n",
        "\n",
        "for i in arr[:2]:\n",
        "  print(i)"
      ],
      "metadata": {
        "colab": {
          "base_uri": "https://localhost:8080/"
        },
        "id": "wg7RcpOkBwjh",
        "outputId": "d0ef495d-739e-4886-fb8e-0e7d83296de8"
      },
      "execution_count": null,
      "outputs": [
        {
          "output_type": "stream",
          "name": "stdout",
          "text": [
            "1\n",
            "2\n"
          ]
        }
      ]
    },
    {
      "cell_type": "markdown",
      "source": [
        "Question 4\n",
        "\n",
        "Define two matrices (Matrix A and Matrix B) with any shape you like, these vectors can be either intialized with random values or with pre-defined values, and multiply those vectors toghther."
      ],
      "metadata": {
        "id": "ykVRzC-zAmUK"
      }
    },
    {
      "cell_type": "code",
      "source": [
        "import torch\n",
        "# matrix x vector\n",
        "matrix1 = torch.randn(3, 4)\n",
        "matrix2 = torch.randn(4, 3)\n",
        "result = torch.matmul(matrix1, matrix2)\n",
        "\n",
        "print('Matrix 1:', matrix1)\n",
        "print('Matrix 2:', matrix2)\n",
        "print('')\n",
        "print('result:', result)\n",
        "print('')\n",
        "print('Result sha')"
      ],
      "metadata": {
        "colab": {
          "base_uri": "https://localhost:8080/"
        },
        "id": "dvKOIce4Altm",
        "outputId": "04e896cc-b22a-4363-9744-a5b04e5322fc"
      },
      "execution_count": null,
      "outputs": [
        {
          "output_type": "stream",
          "name": "stdout",
          "text": [
            "Matrix 1: tensor([[-0.1692, -1.1272,  0.2430,  1.0751],\n",
            "        [-1.2730, -0.2940,  0.8790,  0.8722],\n",
            "        [-0.3300, -0.8570,  0.3889, -0.9782]])\n",
            "Matrix 2: tensor([[-0.9211,  0.4914,  1.5560],\n",
            "        [-0.0264, -1.1764, -0.3264],\n",
            "        [ 0.5617,  1.5144, -0.3430],\n",
            "        [ 0.6080, -0.0096, -0.0158]])\n",
            "\n",
            "Answer: tensor([[ 0.9757,  1.6005,  0.0043],\n",
            "        [ 2.2043,  1.0431, -2.2000],\n",
            "        [-0.0497,  1.4444, -0.3517]])\n"
          ]
        }
      ]
    }
  ]
}