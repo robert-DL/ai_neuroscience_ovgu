{
  "nbformat": 4,
  "nbformat_minor": 0,
  "metadata": {
    "colab": {
      "name": "MNE",
      "provenance": []
    },
    "kernelspec": {
      "name": "python3",
      "display_name": "Python 3"
    },
    "language_info": {
      "name": "python"
    }
  },
  "cells": [
    {
      "cell_type": "markdown",
      "source": [
        "# Synthetic EEG-Data and the Forward Solution with MNE\n",
        "\n",
        "In this tutorial, we explore how we can simulate synthetic EEG data. Personally, I think this is a really exciting topic since it boils down to understanding brain physics. Furthermore, if one is able to simulate meaningful EEG data, which renders cognitive processes, this would mean a large step in this field. However, this is not our aim for the seminar (but could be interesting for a master thesis topic ;) ). \n",
        "\n",
        "Obviously, the simulation of artificial EEG data allows us to provide a large corpus of data for deep neural networks without executing costly experiments. In the context of our projects, this is particularly interesting for the source reconstruction task, but also for the unsupervised feature learning. For the latter one, you could explore if you can learn representations from synthetic data, which could be kind of a proof of concept for reliable data generation. For a more detailed treatment of this topic, you can look into the tutorials and explanations from the MNE page, linked below, as well as in the book from Nunez, linked in the first tutorial.\n",
        "- [Head model and forward compuatation](https://mne.tools/stable/auto_tutorials/forward/30_forward.html#sphx-glr-auto-tutorials-forward-30-forward-py)\n",
        "- [EEG forward operator with a template MRI\n",
        "](https://mne.tools/stable/auto_tutorials/forward/35_eeg_no_mri.html)\n",
        "- [https://mne.tools/stable/auto_tutorials/inverse/10_stc_class.html](https://mne.tools/stable/auto_tutorials/inverse/10_stc_class.html): The source estimate class, which holds the source space with its activations (the active brain)\n",
        "- [Implementation details](https://mne.tools/stable/overview/implementation.html): Here, you can find information on head models, the boundary element method and more. \n",
        "\n",
        "If you want a slightly shorter summary of the topic, compared to the Nunez book, you can take a look into [this paper](https://jneuroengrehab.biomedcentral.com/articles/10.1186/1743-0003-4-46). Heavily related to this topic is the solution to the inverse problem of EEG. By this, we mean the process of inferring the sources within the brain which caused the measured EEG signal. \n",
        "\n",
        "Basically, this tutorial has two parts, which are put togehter from the MNE webpage. On the one hand, we need a forward solution. On the other hand, we need predefined source space activities, so that we can compute the EEG signals from it. In the end, as a little bonus, we will look at how we can produce datasets in braindecode from raw data structures. \n",
        "\n"
      ],
      "metadata": {
        "id": "1XKfNBPAwcZy"
      }
    },
    {
      "cell_type": "code",
      "execution_count": null,
      "metadata": {
        "id": "ce3U-XKvkOaW",
        "colab": {
          "base_uri": "https://localhost:8080/"
        },
        "outputId": "87835d40-bfcf-401b-c3e0-867f15c0b1b5"
      },
      "outputs": [
        {
          "output_type": "stream",
          "name": "stdout",
          "text": [
            "  Building wheel for mne (setup.py) ... \u001b[?25l\u001b[?25hdone\n"
          ]
        }
      ],
      "source": [
        "# Install MNE from GitHub\n",
        "!pip --quiet install mne"
      ]
    },
    {
      "cell_type": "code",
      "source": [
        "# Importing libraries\n",
        "import os\n",
        "import os.path as op\n",
        "import numpy as np\n",
        "import matplotlib.pyplot as plt\n",
        "\n",
        "# Import MNE\n",
        "import mne\n",
        "from mne.datasets import sample\n",
        "from mne.datasets import eegbci\n",
        "from mne.datasets import fetch_fsaverage"
      ],
      "metadata": {
        "id": "6UKuRfCdkTfq"
      },
      "execution_count": null,
      "outputs": []
    },
    {
      "cell_type": "markdown",
      "source": [
        "## Preparation of Data Structures and Data\n",
        "To create synthetic EEG data, we will use different MNE facilities, namely\n",
        "- the Raw data structure,\n",
        "- the Montage data structure,\n",
        "- the Info data structure,\n",
        "- the Source Space (src) data structure,\n",
        "- the Source Time Course (stc) data structure,\n",
        "- the Forward data structure\n",
        "\n",
        "The Raw and the Info structure is already known to us. The remaining ones will be explained below, when we go through the code. \n",
        "\n",
        "We will start with the preparation of the raw file"
      ],
      "metadata": {
        "id": "0RcfoWc4p6bP"
      }
    },
    {
      "cell_type": "code",
      "source": [
        "# At first, we load a montage. This is important, since we need to know the sensor\n",
        "# positions as well as the number of electrodes. Here we take the standard 1005\n",
        "# system. The electrodes are placed in a 10% or 5% distance. However, we do not\n",
        "# want to work with the complete set of electrodes, which is why we specify certain \n",
        "# electrodes\n",
        "montage = mne.channels.make_standard_montage('standard_1005')\n",
        "ch_names = [\n",
        "            \"Fp1\", \"F3\", \"F7\", \"FT9\", \"FC5\", \"FC1\", \"C3\", \"T7\", \"TP9\", \"CP5\",\n",
        "            \"CP1\", \"Pz\", \"P3\", \"P7\", \"O1\", \"Oz\", \"O2\", \"P4\", \"P8\", \"TP10\", \n",
        "            \"CP6\", \"CP2\", \"Cz\", \"C4\", \"T8\", \"FT10\", \"FC6\", \"FC2\", \"F4\", \"F8\", \n",
        "            \"Fp2\"\n",
        "            ]\n",
        "\n",
        "# We want to produce EEG signals only, so that we set the channel types accordingly\n",
        "ch_types = [\"eeg\" for name in ch_names]\n",
        "\n",
        "# Set a sampling frequency\n",
        "sampling_freq = 200 \n",
        "\n",
        "# Create info object\n",
        "info = mne.create_info(ch_names=ch_names, sfreq=sampling_freq, ch_types=ch_types)\n",
        "\n",
        "# Dummy data, specifies the number of time steps later\n",
        "t = np.arange(0, 100, 1/sampling_freq)\n",
        "freqs = [i*0.1 for i in range(len(ch_types))]\n",
        "data = np.array([np.sin(freq*t*np.pi)  for freq in freqs])\n",
        "\n",
        "# We can create a raw object from the RawArray data structure, rather than \n",
        "# instanciating a raw object directly\n",
        "raw = mne.io.RawArray(data, info)\n",
        "\n",
        "# Plot dummy data\n",
        "raw.plot(show_scrollbars=False, show_scalebars=False, scalings=1.1)\n",
        "\n",
        "# Set the montage\n",
        "raw.set_montage(montage=montage)\n",
        "raw.pick_channels(ch_names=ch_names)  # Channel names nochmal auswählen"
      ],
      "metadata": {
        "id": "zUEi3wGTGFn8"
      },
      "execution_count": null,
      "outputs": []
    },
    {
      "cell_type": "markdown",
      "source": [
        "## Part I - The Forward Solution\n",
        "\n",
        "The first part deals with the calculation of the so called forward model. The idea is, that you can **calculate a linear transformation**, represented through a matrix, that **maps the source activity** in the brain **to the EEG sensors** and gives us the **desired EEG signal**. Therefore, we need a discrete version of our brain and our head! As you read this, you can already imagine, that this is non-trivial. I do not want to go into the details here as much as the topic is it worth, however, I want to give a short overview.\n",
        "\n",
        "As already mentioned in the first tutorial (did I?), there are **various sources in the brain**, which contribute to the overall EEG signal. It is nearly a hopeless task to represent all of them by their single contribution. A successful approach to overcome this, is the so called **equivalent current dipole (ECD)** model. This model represent the activities of the different sources patch-wise with a single dipole. This makes things easier for us. From this point on, we have to make different assumptions, about how many boundaries are separating the source from the electrodes, the physical properties of those boundaries and so on. This leads one to the question, **how we describe our head and the brain** to model this process. Below, you can see a picture of how such a model looks like. The most common approaches are the Finite-Element-Method (FEM) as well as the **Boundary-Element-Method (BEM)**. The geometry depicted below corresponds to the latter one. \n",
        "\n",
        "<div>\n",
        "<img src=\"https://drive.google.com/uc?export=view&id=1XxusWfiGTylcfsLhaAkOqmLXdY4bET-R\" width=\"850\"/>\n",
        "\n",
        "<div text-align=center class=\"caption\">A 4-shell head model created from MRI data [1] </div>\n",
        "</div>\n",
        "\n",
        "In the picture, the **4 shells** represent the **brain** itself, the **cerebrospinal fluid (CSF)**, the **inner skull** and the **outer skull**. All these different shells have different **conductivity values** (how good they transfer electrical fields) and are anisotropic (that means, that the properties of the material depend on the direction). \n",
        "\n",
        "As you can see, the model consits of a large number of small, triangular elements. Those elements discretize our continuous space and thus, the governing equations (I spare you the math here). If you discretize the partial differential equations describing the shells, you end up with linear transformations and, luckily, the composition of linear transformations is linear again. In this way, we end up with a simple equation that describes our linear mapping through\n",
        "\\begin{equation}\n",
        "E = LD + N, \n",
        "\\end{equation}\n",
        "\n",
        "where E is our EEG - signal for one time step, L is called the Leadfield matrix and D is the vector of activations in the brain. $N \\sim \\mathcal{N}(0, 1)$, is a vector of random noise, which can be added (the noise can be more complicated than a gaussian distribution)\n",
        "\n",
        "---\n",
        "\n",
        "We will close the theory here. If you want to know more, look into the sources below. We will now start with the implementation now and look at the different aspects. \n",
        "\n",
        "[1] Miklody, Daniel: \"Theory and Application for Spontaneous EEG\", Phd Thesis, TU Berlin, 2015\n",
        "\n",
        "[2] Nunez, Paul L.; Srinivasan, Ramesh: \"Electric Fields of the Brain: The neurophysics of EEG\", Oxford University Press, 2008\n",
        "\n",
        "[3] Hallez, Hans et. al.: Review on solving the forward problem in EEG source analysis, Journal of NeuroEngineering and Rehabilitation, 2008"
      ],
      "metadata": {
        "id": "M7aJcecrEgc2"
      }
    },
    {
      "cell_type": "code",
      "source": [
        "# Download fsaverage files \n",
        "print(\"Fetch fsaverage data ... \", end=\"\")\n",
        "fs_dir = fetch_fsaverage(verbose=False)     \n",
        "subjects_dir = op.dirname(fs_dir)\n",
        "print(\"Done.\")\n",
        "\n",
        "# Specify the subject (tells MNE something about the subjects head)\n",
        "subject = 'fsaverage'\n",
        "trans = 'fsaverage'  # MNE has an inbuild fsaverage Transformation\n",
        "\n",
        "# Bem model\n",
        "print(\"Create BEM model ... \", end=\"\")\n",
        "surf = mne.make_bem_model(subject=subject, ico=4, conductivity=[0.3, 0.006, 0.3], subjects_dir=subjects_dir, verbose=False)\n",
        "print(\"Done.\")\n",
        "print(\"Compute solution of BEM model ... \", end=\"\")\n",
        "bem_model = mne.make_bem_solution(surfs=surf, verbose=False)\n",
        "print(\"Done.\")\n",
        "plot_bem_kwargs = dict(\n",
        "    subject=subject, subjects_dir=subjects_dir,\n",
        "    brain_surfaces='white', orientation='coronal',\n",
        "    slices=[50, 100, 150, 200])\n",
        "\n",
        "print(\"\\nPlot BEM model\\n\"\n",
        "      \"--------------\")\n",
        "mne.viz.plot_bem(**plot_bem_kwargs)\n",
        "\n",
        "# Creating the source space\n",
        "# The source space is, what we call our brain. In the end it is a tesselation of \n",
        "# the brain structure which yields vertices and triangular patches. This allows\n",
        "# the calculation of activities at some point. The spacing is the mesh resolution.\n",
        "# The distance measure is patch (triangle) based\n",
        "print(\"Create Source space ...\", end=\"\")\n",
        "src = mne.setup_source_space(\n",
        "    subject, spacing='oct4', add_dist='patch', subjects_dir=subjects_dir, verbose=False\n",
        "    )\n",
        "\n",
        "print(src)\n",
        "print(\"Done\")\n",
        "\n",
        "print(\"\\nPlot BEM model with src\\n\"\n",
        "      \"--------------\")\n",
        "mne.viz.plot_bem(src=src, **plot_bem_kwargs)\n",
        "\n",
        "# Solve the problem --> Leadfield\n",
        "print(\"Solve the forward problem ...\", end=\"\")\n",
        "fwd = mne.make_forward_solution(\n",
        "    raw.info, trans=trans, src=src, bem=bem_model, eeg=True, mindist=5.0, n_jobs=1, verbose=False\n",
        "    )\n",
        "\n",
        "print(fwd[\"sol\"][\"data\"])\n",
        "\n",
        "\n",
        "# We transform the solution such that it is orthogonal to the head / brain \n",
        "fwd_fixed = mne.convert_forward_solution(\n",
        "    fwd, surf_ori=True, force_fixed=True, use_cps=True, verbose=False\n",
        "    )\n",
        "print(\"Done.\")"
      ],
      "metadata": {
        "id": "eJvyj0uiwEWN"
      },
      "execution_count": null,
      "outputs": []
    },
    {
      "cell_type": "markdown",
      "source": [
        "## Part II - Simulating EEG from a sparse Source Time Course\n",
        "\n",
        "The second part is needed, to fill our source space with activations. We will create a sparsely populated source space. That means, we randomly select a small number of dipoles from the available source space and assign activations to them. This results in pointwise activations. Obviously, this is not realistic at all. Nevertheless, it serves as a good starting point for your journey. \n",
        "\n",
        "At the top of the tutorial we created the Raw data array with a dummy info object and a montage of our choice, where we picked a subset of EEG electrodes. This Raw array will be populated from the solution in the end. "
      ],
      "metadata": {
        "id": "fj5-rUIN0-om"
      }
    },
    {
      "cell_type": "code",
      "source": [
        "# Setting the frame\n",
        "n_dipoles = 10  # how many active dipols shall be distributed\n",
        "duration = 2  # how long an event takes place\n",
        "n = 0  # dummy variable to create different activation functions\n",
        "rng = np.random.RandomState(10)  # Gives reproducible results\n",
        "\n",
        "def wave_fun(times):\n",
        "  global n\n",
        "\n",
        "  n_samples = len(times)\n",
        "\n",
        "  # Create a window where activation takes place\n",
        "  window = np.zeros(n_samples)\n",
        "  \n",
        "  # Start and stop time of the activation\n",
        "  start, stop = [int(ii * float(n_samples) /(2 * n_dipoles)) for ii in (2*n, 2*n+1)]\n",
        "  print(f\"Start: {start}, Stop: {stop}\")\n",
        "\n",
        "  # Set the window to one in the start-stop frame\n",
        "  window[start:stop] = 1.\n",
        "  n += 1\n",
        "\n",
        "  # Create sine activation\n",
        "  data = 25e-9 * np.sin(2. * np.pi * 10. * n * times)  # scale the data to nano-volt (usually employed for sources)\n",
        "  data *= window\n",
        "\n",
        "  return data\n"
      ],
      "metadata": {
        "id": "m29S_-nd4cJv"
      },
      "execution_count": null,
      "outputs": []
    },
    {
      "cell_type": "code",
      "source": [
        "\"\"\" We can simulate the source data now and inspect it \"\"\"\n",
        "\n",
        "# Time steps\n",
        "times = raw.times[:int(raw.info['sfreq'] * duration)]\n",
        "print(f\"t_max: {times[-1]}\")\n",
        "\n",
        "# Simulate a sparse source space\n",
        "stc = mne.simulation.simulate_sparse_stc(\n",
        "    src, n_dipoles=n_dipoles, times=times, data_fun=wave_fun, random_state=rng\n",
        "    )\n",
        "\n",
        "# look at our source data\n",
        "fig, ax = plt.subplots(1)\n",
        "ax.plot(times, 1e9 * stc.data.T)\n",
        "ax.set(ylabel='Amplitude (nAm)', xlabel='Time (s)')\n",
        "mne.viz.utils.plt_show()"
      ],
      "metadata": {
        "id": "6z4g7otfpiUL"
      },
      "execution_count": null,
      "outputs": []
    },
    {
      "cell_type": "code",
      "source": [
        "\"\"\"\n",
        "It is quite easy to simulate the EEG data now.\n",
        "We simply apply an inbuild mne method, where we pass all the raw.info stuff we need. \n",
        "Furthermore\n",
        "\"\"\"\n",
        "raw = mne.simulation.simulate_raw(\n",
        "    raw.info, [stc] * 10, forward=fwd, verbose=True\n",
        "    )\n",
        "\n",
        "raw.plot(show_scalebars=False, show_scrollbars=False)\n",
        "\n",
        "# We can add noise to our data\n",
        "cov = mne.make_ad_hoc_cov(raw.info)\n",
        "mne.simulation.add_noise(\n",
        "    raw, cov, iir_filter=[0.2, -0.2, 0.04], random_state=rng\n",
        "    )\n",
        "\n",
        "raw.plot(show_scalebars=False, show_scrollbars=False)"
      ],
      "metadata": {
        "id": "L6u-3XwOv9n2"
      },
      "execution_count": null,
      "outputs": []
    }
  ]
}